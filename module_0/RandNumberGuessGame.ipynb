{
 "cells": [
  {
   "cell_type": "code",
   "execution_count": 32,
   "metadata": {},
   "outputs": [
    {
     "data": {
      "text/plain": [
       "7"
      ]
     },
     "execution_count": 32,
     "metadata": {},
     "output_type": "execute_result"
    }
   ],
   "source": [
    "import numpy\n",
    "\n",
    "    \n",
    "def game_core(number): #Функция для определения количества попыток, которое потребовалось для угадывания числа\n",
    "    global predict_greater_list\n",
    "    global predict_less_list\n",
    "    predict_greater_list = []\n",
    "    predict_less_list = []\n",
    "    count = 1\n",
    "    direction = ''\n",
    "    predict = numpy.random.randint(1,101) #первый прогноз числа\n",
    "    while number != predict:\n",
    "        count+=1\n",
    "        if count > 50:\n",
    "            break\n",
    "        elif number > predict:\n",
    "            direction = 'more than predict' #переменная указывает на то, что искомое число больше прогноза\n",
    "            predict = predict_change(predict, direction)\n",
    "        elif number < predict: \n",
    "            direction = 'less than predict' #переменная указывает на то, что число меньше прогноза\n",
    "            predict = predict_change(predict, direction)\n",
    "    return(count) # выход из цикла, если угадали\n",
    "\n",
    "\n",
    "def predict_change(predict, direction): #Функция для получения нового прогноза искомого числа\n",
    "        if direction == 'more than predict':\n",
    "            predict_less_list.append(predict) #список прогнозов меньше искомого числа\n",
    "            if len(predict_greater_list) < 1: #если пуст список прогнозов превышающих искомое число\n",
    "                predict = IfSpanTo100(predict, 100) \n",
    "            else:\n",
    "                border_top = sorted(predict_greater_list)[0] #верхняя граница диапазона поиска прогноза\n",
    "                predict = IfSpanTo100(predict, border_top)\n",
    "        elif direction == 'less than predict':\n",
    "            predict_greater_list.append(predict)\n",
    "            if len(predict_less_list) < 1:\n",
    "                predict = IfSpanTo1(predict, 1)\n",
    "            else:\n",
    "                border_bottom = sorted(predict_less_list)[-1] #нижняя граница диапазона поиска прогноза\n",
    "                predict = IfSpanTo1(predict, border_bottom)\n",
    "        return(predict)\n",
    "    \n",
    "\n",
    "def IfSpanTo100(predict, border_top): #Функция для расчета следующего прогноза в сторону увеличения\n",
    "    span = len(range(predict, border_top)) #диапазон в котором расчитывается следующий прогоноз\n",
    "    if span < 3:\n",
    "        predict_new = predict + 1 #при коротком диапазоне перебор прогноза по одному значению\n",
    "    else:\n",
    "        predict_new = predict + int(span/2) #следующий прогноз расчитывается как середина диапазона\n",
    "    return predict_new #новый прогноз\n",
    " \n",
    "    \n",
    "def IfSpanTo1(predict, border_bottom): #Функция для расчета прогноза в сторону уменьшения\n",
    "    span = len(range(border_bottom, predict))\n",
    "    if span < 3:\n",
    "        predict_new = predict - 1\n",
    "    else:\n",
    "        predict_new = predict - int(span/2)\n",
    "    return predict_new\n",
    "\n",
    " \n",
    "game_core(44)"
   ]
  },
  {
   "cell_type": "code",
   "execution_count": 34,
   "metadata": {},
   "outputs": [
    {
     "name": "stdout",
     "output_type": "stream",
     "text": [
      "Ваш алгоритм угадывает число в среднем за 6 попыток\n"
     ]
    },
    {
     "data": {
      "text/plain": [
       "6"
      ]
     },
     "execution_count": 34,
     "metadata": {},
     "output_type": "execute_result"
    }
   ],
   "source": [
    "def score_game(game_core): #Функция 1000 раз обращается к функции game_core чтобы получить среднее количество попыток угадывания\n",
    "    count_ls = []\n",
    "    numpy.random.seed(1)  # фиксируем RANDOM SEED, чтобы ваш эксперимент был воспроизводим!\n",
    "    random_array = numpy.random.randint(1,101, size=(1000))\n",
    "    for number in random_array:\n",
    "        count_ls.append(game_core(number)) #список количества попыток\n",
    "    #print(count_ls)\n",
    "    score = int(sum(count_ls)/len(count_ls)) #среднее арифметическое из количества попыток\n",
    "    print(f\"Ваш алгоритм угадывает число в среднем за {score} попыток\")\n",
    "    return(score)\n",
    "\n",
    "score_game(game_core)"
   ]
  },
  {
   "cell_type": "code",
   "execution_count": null,
   "metadata": {},
   "outputs": [],
   "source": []
  },
  {
   "cell_type": "code",
   "execution_count": null,
   "metadata": {},
   "outputs": [],
   "source": []
  }
 ],
 "metadata": {
  "kernelspec": {
   "display_name": "Python 3",
   "language": "python",
   "name": "python3"
  },
  "language_info": {
   "codemirror_mode": {
    "name": "ipython",
    "version": 3
   },
   "file_extension": ".py",
   "mimetype": "text/x-python",
   "name": "python",
   "nbconvert_exporter": "python",
   "pygments_lexer": "ipython3",
   "version": "3.7.6"
  }
 },
 "nbformat": 4,
 "nbformat_minor": 4
}
